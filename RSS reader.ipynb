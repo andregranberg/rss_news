{
 "cells": [
  {
   "cell_type": "markdown",
   "id": "f5a3ce82",
   "metadata": {},
   "source": [
    "# Download a bunch of news article links from RSS to a MongoDB"
   ]
  },
  {
   "cell_type": "code",
   "execution_count": 1,
   "id": "9847342b",
   "metadata": {},
   "outputs": [],
   "source": [
    "import feedparser\n",
    "from datetime import date\n",
    "import pymongo\n",
    "\n",
    "# define the MongoDB client and database\n",
    "client = pymongo.MongoClient(\"mongodb://localhost:27017/\")\n",
    "db = client[\"mydatabase\"]\n",
    "collection = db[\"articles_by_source\"]\n",
    "\n",
    "news_feeds = {\n",
    "    'France 24': ['https://www.france24.com/en/rss', 'https://www.france24.com/en/europe/rss'],\n",
    "    'DW': ['https://rss.dw.com/rdf/rss-en-all'],\n",
    "    'SVT': ['https://www.svt.se/nyheter/rss.xml'],\n",
    "    'SvD': ['https://www.svd.se/?service=rss'],\n",
    "    'Technode': ['https://technode.com/feed/'],\n",
    "    'PingWest': ['https://en.pingwest.com/feed'],\n",
    "    'China Daily': ['http://www.chinadaily.com.cn/rss/china_rss.xml'],\n",
    "    'Xinhua News Agency': ['http://www.xinhuanet.com/english/rss/worldrss.xml', 'http://www.xinhuanet.com/english/rss/chinarss.xml'],\n",
    "    'TechCrunch': ['https://techcrunch.com/feed/'],\n",
    "    'The Robot Report': ['https://www.therobotreport.com/feed/'],\n",
    "    'CNN': ['http://rss.cnn.com/rss/edition.rss'],\n",
    "    'VOA News': ['https://www.voanews.com/api/zqbomekvi_'],\n",
    "    'NPR': ['https://feeds.npr.org/500005/podcast.xml'],\n",
    "    'The Times of Israel': ['https://www.timesofisrael.com/feed/']\n",
    "}\n",
    "\n",
    "def get_articles_from_rss(rss_url):\n",
    "    feed = feedparser.parse(rss_url)\n",
    "    articles = []\n",
    "    for entry in feed.entries:\n",
    "        articles.append({\n",
    "            \"title\": entry.get(\"title\"),\n",
    "            \"link\": entry.get(\"link\"),\n",
    "            \"published\": entry.get(\"published\"),\n",
    "        })\n",
    "    return articles\n",
    "\n",
    "articles_by_source = {}\n",
    "current_date = str(date.today())\n",
    "\n",
    "for source, feeds in news_feeds.items():\n",
    "    articles = []\n",
    "    for feed in feeds:\n",
    "        feed_articles = get_articles_from_rss(feed)\n",
    "        articles.extend(feed_articles)\n",
    "    article_links = [article['link'] for article in articles if article['link'] is not None]\n",
    "    articles_by_source[source] = {current_date: article_links}\n",
    "\n",
    "# insert the dictionary of articles into MongoDB\n",
    "collection.insert_one(articles_by_source)\n",
    "\n",
    "# print the inserted data\n",
    "documents = collection.find()\n",
    "#for document in documents:\n",
    "    #print(document)"
   ]
  },
  {
   "cell_type": "markdown",
   "id": "44163097",
   "metadata": {},
   "source": [
    "# Show the output of the MongoDB"
   ]
  },
  {
   "cell_type": "code",
   "execution_count": 2,
   "id": "560cc52c",
   "metadata": {},
   "outputs": [],
   "source": [
    "import pymongo\n",
    "from pprint import pprint\n",
    "\n",
    "# connect to MongoDB\n",
    "client = pymongo.MongoClient(\"mongodb://localhost:27017/\")\n",
    "db = client[\"mydatabase\"]\n",
    "\n",
    "# select the collection to query\n",
    "collection = db[\"articles_by_source\"]\n",
    "\n",
    "# find all documents in the collection\n",
    "documents = collection.find()\n",
    "\n",
    "# iterate over the documents and pretty print each document\n",
    "#for document in documents:\n",
    "    #pprint(document)"
   ]
  },
  {
   "cell_type": "markdown",
   "id": "acd9a051",
   "metadata": {},
   "source": [
    "# Serve the mongoDB as a flask API"
   ]
  },
  {
   "cell_type": "code",
   "execution_count": 3,
   "id": "256fbb39",
   "metadata": {},
   "outputs": [
    {
     "name": "stdout",
     "output_type": "stream",
     "text": [
      " * Serving Flask app '__main__'\n",
      " * Debug mode: on\n"
     ]
    },
    {
     "name": "stderr",
     "output_type": "stream",
     "text": [
      "WARNING: This is a development server. Do not use it in a production deployment. Use a production WSGI server instead.\n",
      " * Running on http://127.0.0.1:5000\n",
      "Press CTRL+C to quit\n",
      "127.0.0.1 - - [01/Apr/2023 04:41:35] \"GET / HTTP/1.1\" 404 -\n",
      "127.0.0.1 - - [01/Apr/2023 04:41:38] \"GET /articles HTTP/1.1\" 200 -\n"
     ]
    }
   ],
   "source": [
    "from flask import Flask, jsonify\n",
    "from flask_pymongo import PyMongo\n",
    "\n",
    "app = Flask(__name__)\n",
    "app.config['MONGO_URI'] = 'mongodb://localhost:27017/mydatabase'\n",
    "mongo = PyMongo(app)\n",
    "\n",
    "@app.route('/articles')\n",
    "def get_articles():\n",
    "    # connect to MongoDB and select the collection to query\n",
    "    collection = mongo.db.articles_by_source\n",
    "    \n",
    "    # find all documents in the collection and convert them to a list of dictionaries\n",
    "    documents = collection.find()\n",
    "    articles = []\n",
    "    for document in documents:\n",
    "        # convert the ObjectId to string\n",
    "        document['_id'] = str(document['_id'])\n",
    "        articles.append(document)\n",
    "    \n",
    "    # convert the list of dictionaries to a JSON serializable format\n",
    "    response = jsonify(articles)\n",
    "    \n",
    "    return response\n",
    "\n",
    "if __name__ == '__main__':\n",
    "    app.run(debug=True, use_reloader=False)"
   ]
  },
  {
   "cell_type": "markdown",
   "id": "d261afbc",
   "metadata": {},
   "source": [
    "# Delete stuff"
   ]
  },
  {
   "cell_type": "code",
   "execution_count": null,
   "id": "89bf85af",
   "metadata": {},
   "outputs": [
    {
     "name": "stdout",
     "output_type": "stream",
     "text": [
      "Deleted 1 documents.\n"
     ]
    }
   ],
   "source": [
    "import pymongo\n",
    "\n",
    "# connect to MongoDB and select the collection to modify\n",
    "client = pymongo.MongoClient(\"mongodb://localhost:27017/\")\n",
    "db = client[\"mydatabase\"]\n",
    "collection = db[\"articles_by_source\"]\n",
    "\n",
    "# delete all documents that have the \"articles\" key\n",
    "delete_result = collection.delete_many({\"articles\": {\"$exists\": True}})\n",
    "print(f\"Deleted {delete_result.deleted_count} documents.\")"
   ]
  },
  {
   "cell_type": "markdown",
   "id": "eee5cdc6",
   "metadata": {},
   "source": [
    "# Get all the keys in the MongoDB"
   ]
  },
  {
   "cell_type": "code",
   "execution_count": 1,
   "id": "937e2e5d",
   "metadata": {},
   "outputs": [
    {
     "name": "stdout",
     "output_type": "stream",
     "text": [
      "dict_keys(['_id', 'France 24', 'DW', 'SVT', 'SvD', 'Technode', 'PingWest', 'China Daily', 'Xinhua News Agency', 'TechCrunch', 'The Robot Report', 'CNN', 'VOA News', 'NPR', 'The Times of Israel'])\n"
     ]
    }
   ],
   "source": [
    "from pymongo import MongoClient\n",
    "\n",
    "client = MongoClient('mongodb://localhost:27017/')\n",
    "db = client.mydatabase\n",
    "collection = db.articles_by_source\n",
    "\n",
    "document = collection.find_one()\n",
    "print(document.keys())"
   ]
  },
  {
   "cell_type": "markdown",
   "id": "25ede404",
   "metadata": {},
   "source": [
    "# Drop database"
   ]
  },
  {
   "cell_type": "code",
   "execution_count": null,
   "id": "dc8178dc",
   "metadata": {},
   "outputs": [],
   "source": [
    "from pymongo import MongoClient\n",
    "\n",
    "client = MongoClient('mongodb://localhost:27017/')\n",
    "client.drop_database('mydatabase')"
   ]
  }
 ],
 "metadata": {
  "kernelspec": {
   "display_name": "Python 3 (ipykernel)",
   "language": "python",
   "name": "python3"
  },
  "language_info": {
   "codemirror_mode": {
    "name": "ipython",
    "version": 3
   },
   "file_extension": ".py",
   "mimetype": "text/x-python",
   "name": "python",
   "nbconvert_exporter": "python",
   "pygments_lexer": "ipython3",
   "version": "3.11.1"
  }
 },
 "nbformat": 4,
 "nbformat_minor": 5
}
